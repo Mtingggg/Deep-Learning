{
 "cells": [
  {
   "cell_type": "code",
   "execution_count": null,
   "metadata": {},
   "outputs": [],
   "source": [
    "import numpy as np\n",
    "import pandas as pd\n",
    "import matplotlib.pyplot as plt\n",
    "from PIL import Image\n",
    "\n",
    "from torchvision.datasets import ImageFolder\n",
    "import torch\n",
    "import torch.nn as nn\n",
    "import torchvision.transforms as transforms\n",
    "import torch.nn.functional as F\n",
    "import torch.optim as optim\n",
    "\n",
    "import matplotlib.image as mpimg"
   ]
  },
  {
   "cell_type": "code",
   "execution_count": null,
   "metadata": {},
   "outputs": [],
   "source": [
    "preprocess = transforms.Compose([\n",
    "    transforms.Resize((64,64)),\n",
    "    transforms.ToTensor(), #0~255 -> 0~1\n",
    "    transforms.Normalize(  #0~1 -> -1~1   (x-mean)/std\n",
    "    mean=[0.5,0.5,0.5],\n",
    "    std=[0.5,0.5,0.5]\n",
    ")\n",
    "])\n"
   ]
  },
  {
   "cell_type": "code",
   "execution_count": null,
   "metadata": {},
   "outputs": [],
   "source": [
    "dataset = ImageFolder(\"/home/0753115/data/DL_HW3/\",transform=preprocess)"
   ]
  },
  {
   "cell_type": "code",
   "execution_count": null,
   "metadata": {},
   "outputs": [],
   "source": [
    "train_data=torch.utils.data.DataLoader(dataset, batch_size=128, num_workers=0, shuffle=True,drop_last=True)"
   ]
  },
  {
   "cell_type": "code",
   "execution_count": null,
   "metadata": {},
   "outputs": [],
   "source": [
    "def weights_init(m):\n",
    "    classname = m.__class__.__name__\n",
    "    print('classname:', classname)\n",
    "\n",
    "    if classname.find('Conv') != -1:\n",
    "        nn.init.normal_(m.weight.data, 0.0, 0.02)\n",
    "    elif classname.find('BatchNorm') != -1:\n",
    "        nn.init.normal_(m.weight.data, 1.0, 0.02)\n",
    "        nn.init.constant_(m.bias.data, 0)\n"
   ]
  },
  {
   "cell_type": "code",
   "execution_count": null,
   "metadata": {},
   "outputs": [],
   "source": [
    "# Discriminator\n",
    "class Discriminator(nn.Module):\n",
    "    def __init__(self, inputSize, hiddenSize):\n",
    "        super(Discriminator, self).__init__()\n",
    "        self.main = nn.Sequential(\n",
    "            nn.Conv2d(inputSize, hiddenSize, 4, 2, 1, bias=False),\n",
    "            nn.LeakyReLU(0.2, inplace=True),\n",
    "\n",
    "            nn.Conv2d(hiddenSize, hiddenSize*2, 4, 2, 1, bias=False),\n",
    "            nn.BatchNorm2d(hiddenSize*2),\n",
    "            nn.LeakyReLU(0.2, inplace=True),\n",
    "\n",
    "            nn.Conv2d(hiddenSize*2, hiddenSize*4, 4, 2, 1, bias=False),\n",
    "            nn.BatchNorm2d(hiddenSize*4),\n",
    "            nn.LeakyReLU(0.2, inplace=True),\n",
    "\n",
    "            nn.Conv2d(hiddenSize*4, hiddenSize*8, 4, 2, 1, bias=False),\n",
    "            nn.BatchNorm2d(hiddenSize*8),\n",
    "            nn.LeakyReLU(0.2, inplace=True),\n",
    "\n",
    "            nn.Conv2d(hiddenSize*8, 1, 4, 1, 0, bias=False),\n",
    "            nn.Sigmoid())\n",
    "\n",
    "    def forward(self, input):\n",
    "        return self.main(input)"
   ]
  },
  {
   "cell_type": "code",
   "execution_count": null,
   "metadata": {},
   "outputs": [],
   "source": [
    "# Generator\n",
    "class Generator(nn.Module):\n",
    "    def __init__(self, inputSize, hiddenSize, outputSize):\n",
    "        super(Generator, self).__init__()\n",
    "        self.main = nn.Sequential(\n",
    "            nn.ConvTranspose2d(inputSize, hiddenSize*8, 4, 1, 0, bias=False),\n",
    "            nn.BatchNorm2d(hiddenSize*8),\n",
    "            nn.ReLU(True),\n",
    "\n",
    "            nn.ConvTranspose2d(hiddenSize*8, hiddenSize*4, 4, 2, 1, bias=False),\n",
    "            nn.BatchNorm2d(hiddenSize*4),\n",
    "            nn.ReLU(True),\n",
    "\n",
    "            nn.ConvTranspose2d(hiddenSize*4, hiddenSize*2, 4, 2, 1, bias=False),\n",
    "            nn.BatchNorm2d(hiddenSize*2),\n",
    "            nn.ReLU(True),\n",
    "\n",
    "            nn.ConvTranspose2d(hiddenSize*2, hiddenSize, 4, 2, 1, bias=False),\n",
    "            nn.BatchNorm2d(hiddenSize),\n",
    "            nn.ReLU(True),\n",
    "\n",
    "            nn.ConvTranspose2d(hiddenSize, outputSize, 4, 2, 1, bias=False),\n",
    "            nn.Tanh())\n",
    "\n",
    "    def forward(self, input):\n",
    "        return self.main(input)"
   ]
  },
  {
   "cell_type": "code",
   "execution_count": null,
   "metadata": {},
   "outputs": [],
   "source": [
    "batch_size = 1024\n",
    "image_size = 64\n",
    "G_out_D_in = 3\n",
    "G_in = 100\n",
    "G_hidden = 64\n",
    "D_hidden = 64\n",
    "\n",
    "lr = 0.001\n",
    "beta1 = 0.5"
   ]
  },
  {
   "cell_type": "code",
   "execution_count": null,
   "metadata": {},
   "outputs": [],
   "source": [
    "# Create the generator\n",
    "netG = Generator(G_in, G_hidden, G_out_D_in)\n",
    "netG.apply(weights_init)\n",
    "print(netG)\n",
    "\n",
    "# Create the discriminator\n",
    "netD = Discriminator(G_out_D_in, D_hidden)\n",
    "netD.apply(weights_init)\n",
    "print(netD)\n",
    "\n",
    "# Loss fuG_out_D_intion\n",
    "criterion = nn.BCELoss()\n",
    "fixed_noise = torch.randn(64, G_in, 1, 1)\n",
    "\n",
    "real_label = 1\n",
    "fake_label = 0\n",
    "optimizerD = optim.Adam(netD.parameters(), lr=lr, betas=(beta1, 0.999))\n",
    "optimizerG = optim.Adam(netG.parameters(), lr=lr, betas=(beta1, 0.999))\n",
    "\n",
    "img_list = []\n",
    "G_losses = []\n",
    "D_losses = []\n",
    "iters = 0"
   ]
  },
  {
   "cell_type": "code",
   "execution_count": null,
   "metadata": {},
   "outputs": [],
   "source": [
    "epochs = 5\n",
    "G_loss = []\n",
    "G_temp=[]\n",
    "D_loss = []\n",
    "D_temp=[]\n",
    "\n",
    "for epoch in range(epochs):\n",
    "    for i, data in enumerate(train_data, 0):\n",
    "        # Update D network\n",
    "        optimizerD.zero_grad()\n",
    "        \n",
    "        #D判斷real images\n",
    "        inputs = data[0]\n",
    "        b_size = inputs.size(0)\n",
    "        label = torch.full((b_size,), real_label)\n",
    "        output = netD(inputs).view(-1)\n",
    "\n",
    "        errD_real = criterion(output, label)\n",
    "        errD_real.backward()\n",
    "        D_x = output.mean().item()  #越接近1越好\n",
    "\n",
    "        #D判斷fake images        \n",
    "        noise = torch.randn(b_size, G_in, 1, 1)\n",
    "        fake = netG(noise)\n",
    "        label.fill_(fake_label)\n",
    "        output = netD(fake.detach()).view(-1)\n",
    "\n",
    "        errD_fake = criterion(output, label)\n",
    "        errD_fake.backward()\n",
    "\n",
    "        D_G_z1 = output.mean().item()  #越接近0越表示Discriminator越強\n",
    "        errD = errD_real + errD_fake\n",
    "        if i%2==0:\n",
    "            optimizerD.step()\n",
    "\n",
    "        \n",
    "        # Update G network\n",
    "        optimizerG.zero_grad()\n",
    "        label.fill_(real_label)\n",
    "        output = netD(fake).view(-1)\n",
    "        errG = criterion(output, label)\n",
    "        errG.backward()\n",
    "        D_G_z2 = output.mean().item()  #越接近1表示Discrminator越強\n",
    "        optimizerG.step()\n",
    "\n",
    "        G_temp.append(errG.item())\n",
    "        D_temp.append(errD.item())\n",
    "        \n",
    "    G_loss.append(np.mean(G_temp))\n",
    "    D_loss.append(np.mean(D_temp))\n",
    "    \n",
    "    print('[%d/%d]\\tLoss_D: %.4f\\tLoss_G: %.4f\\tD(x)' % (epoch, epochs, np.mean(D_temp), np.mean(G_temp)))\n",
    "\n",
    "    \n",
    "#     torch.save(netD, 'netD.pkl')\n",
    "#     torch.save(netG, 'netG.pkl')"
   ]
  },
  {
   "cell_type": "code",
   "execution_count": null,
   "metadata": {},
   "outputs": [],
   "source": [
    "plt.plot(range(len(G_loss)),G_loss,'b',range(len(D_loss)),D_loss,'g')"
   ]
  },
  {
   "cell_type": "code",
   "execution_count": null,
   "metadata": {},
   "outputs": [],
   "source": [
    "plt.plot(range(len(G_temp)),G_temp,'b',range(len(D_temp)),D_temp,'g')"
   ]
  },
  {
   "cell_type": "code",
   "execution_count": null,
   "metadata": {},
   "outputs": [],
   "source": [
    "# 畫出input圖片及模型產生的結果\n",
    "import torchvision.utils as vutils\n",
    "\n",
    "img_list.append(vutils.make_grid(fake, padding=2, normalize=True))\n",
    "\n",
    "Image.fromarray(np.transpose(((vutils.make_grid(inputs, padding=2, normalize=False).data.numpy()+1.0)/2.0*255).astype(np.uint8),(1,2,0)))\n",
    "\n",
    "Image.fromarray(np.transpose(((vutils.make_grid(fake, padding=2, normalize=False).data.numpy()+1.0)/2.0*255).astype(np.uint8),(1,2,0)))"
   ]
  }
 ],
 "metadata": {
  "kernelspec": {
   "display_name": "Python 3",
   "language": "python",
   "name": "python3"
  },
  "language_info": {
   "codemirror_mode": {
    "name": "ipython",
    "version": 3
   },
   "file_extension": ".py",
   "mimetype": "text/x-python",
   "name": "python",
   "nbconvert_exporter": "python",
   "pygments_lexer": "ipython3",
   "version": "3.7.4"
  }
 },
 "nbformat": 4,
 "nbformat_minor": 2
}
